{
 "cells": [
  {
   "cell_type": "code",
   "execution_count": 1,
   "metadata": {},
   "outputs": [],
   "source": [
    "import pandas as pd\n",
    "from sklearn.model_selection import train_test_split\n",
    "import matplotlib.pyplot as plt\n",
    "import numpy as np\n",
    "from sklearn.covariance import EllipticEnvelope\n",
    "import collections\n",
    "from sklearn import preprocessing"
   ]
  },
  {
   "cell_type": "markdown",
   "metadata": {},
   "source": [
    "## Loading the data"
   ]
  },
  {
   "cell_type": "code",
   "execution_count": 2,
   "metadata": {},
   "outputs": [],
   "source": [
    "dataFrame = pd.read_csv('CSC215_P2_Stock_Price.csv')\n",
    "dataFrame.drop(['Date', 'Adj_Close'], axis=1, inplace=True)\n",
    "dataFrame['y'] = dataFrame['Close']"
   ]
  },
  {
   "cell_type": "code",
   "execution_count": 3,
   "metadata": {
    "scrolled": false
   },
   "outputs": [
    {
     "data": {
      "text/html": [
       "<div>\n",
       "<style scoped>\n",
       "    .dataframe tbody tr th:only-of-type {\n",
       "        vertical-align: middle;\n",
       "    }\n",
       "\n",
       "    .dataframe tbody tr th {\n",
       "        vertical-align: top;\n",
       "    }\n",
       "\n",
       "    .dataframe thead th {\n",
       "        text-align: right;\n",
       "    }\n",
       "</style>\n",
       "<table border=\"1\" class=\"dataframe\">\n",
       "  <thead>\n",
       "    <tr style=\"text-align: right;\">\n",
       "      <th></th>\n",
       "      <th>Open</th>\n",
       "      <th>High</th>\n",
       "      <th>Low</th>\n",
       "      <th>Close</th>\n",
       "      <th>Volume</th>\n",
       "      <th>y</th>\n",
       "    </tr>\n",
       "  </thead>\n",
       "  <tbody>\n",
       "    <tr>\n",
       "      <th>0</th>\n",
       "      <td>3.812500</td>\n",
       "      <td>4.156250</td>\n",
       "      <td>3.812500</td>\n",
       "      <td>4.125000</td>\n",
       "      <td>3675600</td>\n",
       "      <td>4.125000</td>\n",
       "    </tr>\n",
       "    <tr>\n",
       "      <th>1</th>\n",
       "      <td>4.125000</td>\n",
       "      <td>4.125000</td>\n",
       "      <td>4.000000</td>\n",
       "      <td>4.015625</td>\n",
       "      <td>1077600</td>\n",
       "      <td>4.015625</td>\n",
       "    </tr>\n",
       "    <tr>\n",
       "      <th>2</th>\n",
       "      <td>4.000000</td>\n",
       "      <td>4.031250</td>\n",
       "      <td>3.953125</td>\n",
       "      <td>4.000000</td>\n",
       "      <td>437200</td>\n",
       "      <td>4.000000</td>\n",
       "    </tr>\n",
       "    <tr>\n",
       "      <th>3</th>\n",
       "      <td>4.000000</td>\n",
       "      <td>4.000000</td>\n",
       "      <td>3.843750</td>\n",
       "      <td>3.843750</td>\n",
       "      <td>1883600</td>\n",
       "      <td>3.843750</td>\n",
       "    </tr>\n",
       "    <tr>\n",
       "      <th>4</th>\n",
       "      <td>3.734375</td>\n",
       "      <td>3.734375</td>\n",
       "      <td>3.390625</td>\n",
       "      <td>3.390625</td>\n",
       "      <td>7931600</td>\n",
       "      <td>3.390625</td>\n",
       "    </tr>\n",
       "  </tbody>\n",
       "</table>\n",
       "</div>"
      ],
      "text/plain": [
       "       Open      High       Low     Close   Volume         y\n",
       "0  3.812500  4.156250  3.812500  4.125000  3675600  4.125000\n",
       "1  4.125000  4.125000  4.000000  4.015625  1077600  4.015625\n",
       "2  4.000000  4.031250  3.953125  4.000000   437200  4.000000\n",
       "3  4.000000  4.000000  3.843750  3.843750  1883600  3.843750\n",
       "4  3.734375  3.734375  3.390625  3.390625  7931600  3.390625"
      ]
     },
     "execution_count": 3,
     "metadata": {},
     "output_type": "execute_result"
    }
   ],
   "source": [
    "dataFrame.head()"
   ]
  },
  {
   "cell_type": "code",
   "execution_count": 4,
   "metadata": {},
   "outputs": [],
   "source": [
    "df_y_lstm = dataFrame[['y']].copy()\n",
    "df_x_lstm = dataFrame.drop(['y'], axis = 1)"
   ]
  },
  {
   "cell_type": "code",
   "execution_count": 5,
   "metadata": {},
   "outputs": [
    {
     "data": {
      "text/html": [
       "<div>\n",
       "<style scoped>\n",
       "    .dataframe tbody tr th:only-of-type {\n",
       "        vertical-align: middle;\n",
       "    }\n",
       "\n",
       "    .dataframe tbody tr th {\n",
       "        vertical-align: top;\n",
       "    }\n",
       "\n",
       "    .dataframe thead th {\n",
       "        text-align: right;\n",
       "    }\n",
       "</style>\n",
       "<table border=\"1\" class=\"dataframe\">\n",
       "  <thead>\n",
       "    <tr style=\"text-align: right;\">\n",
       "      <th></th>\n",
       "      <th>Open</th>\n",
       "      <th>High</th>\n",
       "      <th>Low</th>\n",
       "      <th>Close</th>\n",
       "      <th>Volume</th>\n",
       "    </tr>\n",
       "  </thead>\n",
       "  <tbody>\n",
       "    <tr>\n",
       "      <th>0</th>\n",
       "      <td>3.812500</td>\n",
       "      <td>4.156250</td>\n",
       "      <td>3.812500</td>\n",
       "      <td>4.125000</td>\n",
       "      <td>3675600</td>\n",
       "    </tr>\n",
       "    <tr>\n",
       "      <th>1</th>\n",
       "      <td>4.125000</td>\n",
       "      <td>4.125000</td>\n",
       "      <td>4.000000</td>\n",
       "      <td>4.015625</td>\n",
       "      <td>1077600</td>\n",
       "    </tr>\n",
       "    <tr>\n",
       "      <th>2</th>\n",
       "      <td>4.000000</td>\n",
       "      <td>4.031250</td>\n",
       "      <td>3.953125</td>\n",
       "      <td>4.000000</td>\n",
       "      <td>437200</td>\n",
       "    </tr>\n",
       "    <tr>\n",
       "      <th>3</th>\n",
       "      <td>4.000000</td>\n",
       "      <td>4.000000</td>\n",
       "      <td>3.843750</td>\n",
       "      <td>3.843750</td>\n",
       "      <td>1883600</td>\n",
       "    </tr>\n",
       "    <tr>\n",
       "      <th>4</th>\n",
       "      <td>3.734375</td>\n",
       "      <td>3.734375</td>\n",
       "      <td>3.390625</td>\n",
       "      <td>3.390625</td>\n",
       "      <td>7931600</td>\n",
       "    </tr>\n",
       "  </tbody>\n",
       "</table>\n",
       "</div>"
      ],
      "text/plain": [
       "       Open      High       Low     Close   Volume\n",
       "0  3.812500  4.156250  3.812500  4.125000  3675600\n",
       "1  4.125000  4.125000  4.000000  4.015625  1077600\n",
       "2  4.000000  4.031250  3.953125  4.000000   437200\n",
       "3  4.000000  4.000000  3.843750  3.843750  1883600\n",
       "4  3.734375  3.734375  3.390625  3.390625  7931600"
      ]
     },
     "execution_count": 5,
     "metadata": {},
     "output_type": "execute_result"
    }
   ],
   "source": [
    "df_x_lstm.head()"
   ]
  },
  {
   "cell_type": "code",
   "execution_count": 6,
   "metadata": {},
   "outputs": [
    {
     "name": "stderr",
     "output_type": "stream",
     "text": [
      "C:\\ProgramData\\Anaconda3\\lib\\site-packages\\sklearn\\utils\\validation.py:595: DataConversionWarning: Data with input dtype int64 was converted to float64 by MinMaxScaler.\n",
      "  warnings.warn(msg, DataConversionWarning)\n"
     ]
    }
   ],
   "source": [
    "def chart_regression(pred,y,sort=True):\n",
    "    t = pd.DataFrame({'pred' : pred, 'y' : y.flatten()})\n",
    "    if sort:\n",
    "        t.sort_values(by=['y'],inplace=True)\n",
    "    a = plt.plot(t['y'].tolist(),label='expected')\n",
    "    b = plt.plot(t['pred'].tolist(),label='prediction')\n",
    "    plt.ylabel('output')\n",
    "    plt.legend()\n",
    "    plt.show()\n",
    "    \n",
    "    \n",
    "import sklearn\n",
    "import sklearn.preprocessing\n",
    "def normalize_data(df):\n",
    "    min_max_scaler = sklearn.preprocessing.MinMaxScaler()\n",
    "    df['Open'] = min_max_scaler.fit_transform(df.Open.values.reshape(-1,1))\n",
    "    df['High'] = min_max_scaler.fit_transform(df.High.values.reshape(-1,1))\n",
    "    df['Low'] = min_max_scaler.fit_transform(df.Low.values.reshape(-1,1))\n",
    "    df['Volume'] = min_max_scaler.fit_transform(df.Volume.values.reshape(-1,1))\n",
    "    df['Close'] = min_max_scaler.fit_transform(df['Close'].values.reshape(-1,1))\n",
    "    return df\n",
    "\n",
    "\n",
    "df_x_lstm = normalize_data(df_x_lstm)\n",
    "\n",
    "\n",
    "import numpy as np\n",
    "\n",
    "def to_sequences(seq_size, data1, data2):\n",
    "    x = []\n",
    "    y = []\n",
    "\n",
    "    for i in range(len(data1)-seq_size):\n",
    "        #print(i)\n",
    "        window = data1[i:(i+seq_size)]\n",
    "        after_window = data2[i+seq_size]\n",
    "        window = [[x] for x in window]\n",
    "        #print(\"{} - {}\".format(window,after_window))\n",
    "        x.append(window)\n",
    "        y.append(after_window)\n",
    "        \n",
    "    return np.array(x), np.array(y)"
   ]
  },
  {
   "cell_type": "code",
   "execution_count": 7,
   "metadata": {},
   "outputs": [
    {
     "data": {
      "text/html": [
       "<div>\n",
       "<style scoped>\n",
       "    .dataframe tbody tr th:only-of-type {\n",
       "        vertical-align: middle;\n",
       "    }\n",
       "\n",
       "    .dataframe tbody tr th {\n",
       "        vertical-align: top;\n",
       "    }\n",
       "\n",
       "    .dataframe thead th {\n",
       "        text-align: right;\n",
       "    }\n",
       "</style>\n",
       "<table border=\"1\" class=\"dataframe\">\n",
       "  <thead>\n",
       "    <tr style=\"text-align: right;\">\n",
       "      <th></th>\n",
       "      <th>Open</th>\n",
       "      <th>High</th>\n",
       "      <th>Low</th>\n",
       "      <th>Close</th>\n",
       "      <th>Volume</th>\n",
       "    </tr>\n",
       "  </thead>\n",
       "  <tbody>\n",
       "    <tr>\n",
       "      <th>0</th>\n",
       "      <td>0.004378</td>\n",
       "      <td>0.006469</td>\n",
       "      <td>0.006934</td>\n",
       "      <td>0.007408</td>\n",
       "      <td>0.075401</td>\n",
       "    </tr>\n",
       "    <tr>\n",
       "      <th>1</th>\n",
       "      <td>0.007031</td>\n",
       "      <td>0.006205</td>\n",
       "      <td>0.008535</td>\n",
       "      <td>0.006482</td>\n",
       "      <td>0.019194</td>\n",
       "    </tr>\n",
       "    <tr>\n",
       "      <th>2</th>\n",
       "      <td>0.005970</td>\n",
       "      <td>0.005413</td>\n",
       "      <td>0.008135</td>\n",
       "      <td>0.006350</td>\n",
       "      <td>0.005339</td>\n",
       "    </tr>\n",
       "    <tr>\n",
       "      <th>3</th>\n",
       "      <td>0.005970</td>\n",
       "      <td>0.005149</td>\n",
       "      <td>0.007201</td>\n",
       "      <td>0.005027</td>\n",
       "      <td>0.036632</td>\n",
       "    </tr>\n",
       "    <tr>\n",
       "      <th>4</th>\n",
       "      <td>0.003714</td>\n",
       "      <td>0.002904</td>\n",
       "      <td>0.003334</td>\n",
       "      <td>0.001191</td>\n",
       "      <td>0.167478</td>\n",
       "    </tr>\n",
       "    <tr>\n",
       "      <th>5</th>\n",
       "      <td>0.001725</td>\n",
       "      <td>0.002640</td>\n",
       "      <td>0.003734</td>\n",
       "      <td>0.001588</td>\n",
       "      <td>0.244393</td>\n",
       "    </tr>\n",
       "    <tr>\n",
       "      <th>6</th>\n",
       "      <td>0.001990</td>\n",
       "      <td>0.001584</td>\n",
       "      <td>0.000800</td>\n",
       "      <td>0.002117</td>\n",
       "      <td>0.280091</td>\n",
       "    </tr>\n",
       "    <tr>\n",
       "      <th>7</th>\n",
       "      <td>0.001459</td>\n",
       "      <td>0.001452</td>\n",
       "      <td>0.003867</td>\n",
       "      <td>0.001984</td>\n",
       "      <td>0.133252</td>\n",
       "    </tr>\n",
       "    <tr>\n",
       "      <th>8</th>\n",
       "      <td>0.001725</td>\n",
       "      <td>0.001716</td>\n",
       "      <td>0.004001</td>\n",
       "      <td>0.002778</td>\n",
       "      <td>0.151243</td>\n",
       "    </tr>\n",
       "    <tr>\n",
       "      <th>9</th>\n",
       "      <td>0.002521</td>\n",
       "      <td>0.003564</td>\n",
       "      <td>0.005067</td>\n",
       "      <td>0.003043</td>\n",
       "      <td>0.296706</td>\n",
       "    </tr>\n",
       "    <tr>\n",
       "      <th>10</th>\n",
       "      <td>0.003316</td>\n",
       "      <td>0.003036</td>\n",
       "      <td>0.005334</td>\n",
       "      <td>0.003307</td>\n",
       "      <td>0.110129</td>\n",
       "    </tr>\n",
       "    <tr>\n",
       "      <th>11</th>\n",
       "      <td>0.002388</td>\n",
       "      <td>0.002244</td>\n",
       "      <td>0.004801</td>\n",
       "      <td>0.002778</td>\n",
       "      <td>0.138453</td>\n",
       "    </tr>\n",
       "    <tr>\n",
       "      <th>12</th>\n",
       "      <td>0.002123</td>\n",
       "      <td>0.002112</td>\n",
       "      <td>0.004534</td>\n",
       "      <td>0.002778</td>\n",
       "      <td>0.180779</td>\n",
       "    </tr>\n",
       "    <tr>\n",
       "      <th>13</th>\n",
       "      <td>0.002388</td>\n",
       "      <td>0.002244</td>\n",
       "      <td>0.004934</td>\n",
       "      <td>0.003076</td>\n",
       "      <td>0.144606</td>\n",
       "    </tr>\n",
       "    <tr>\n",
       "      <th>14</th>\n",
       "      <td>0.002653</td>\n",
       "      <td>0.001980</td>\n",
       "      <td>0.004534</td>\n",
       "      <td>0.003043</td>\n",
       "      <td>0.052693</td>\n",
       "    </tr>\n",
       "    <tr>\n",
       "      <th>15</th>\n",
       "      <td>0.002388</td>\n",
       "      <td>0.001848</td>\n",
       "      <td>0.004401</td>\n",
       "      <td>0.002646</td>\n",
       "      <td>0.060612</td>\n",
       "    </tr>\n",
       "    <tr>\n",
       "      <th>16</th>\n",
       "      <td>0.002653</td>\n",
       "      <td>0.001980</td>\n",
       "      <td>0.004134</td>\n",
       "      <td>0.002249</td>\n",
       "      <td>0.058535</td>\n",
       "    </tr>\n",
       "    <tr>\n",
       "      <th>17</th>\n",
       "      <td>0.002255</td>\n",
       "      <td>0.002244</td>\n",
       "      <td>0.004801</td>\n",
       "      <td>0.002910</td>\n",
       "      <td>0.096750</td>\n",
       "    </tr>\n",
       "    <tr>\n",
       "      <th>18</th>\n",
       "      <td>0.002388</td>\n",
       "      <td>0.002508</td>\n",
       "      <td>0.004801</td>\n",
       "      <td>0.003440</td>\n",
       "      <td>0.094509</td>\n",
       "    </tr>\n",
       "    <tr>\n",
       "      <th>19</th>\n",
       "      <td>0.002521</td>\n",
       "      <td>0.002244</td>\n",
       "      <td>0.004534</td>\n",
       "      <td>0.002646</td>\n",
       "      <td>0.078421</td>\n",
       "    </tr>\n",
       "    <tr>\n",
       "      <th>20</th>\n",
       "      <td>0.002388</td>\n",
       "      <td>0.003300</td>\n",
       "      <td>0.004001</td>\n",
       "      <td>0.004366</td>\n",
       "      <td>0.096170</td>\n",
       "    </tr>\n",
       "    <tr>\n",
       "      <th>21</th>\n",
       "      <td>0.004112</td>\n",
       "      <td>0.006205</td>\n",
       "      <td>0.006401</td>\n",
       "      <td>0.004895</td>\n",
       "      <td>0.111003</td>\n",
       "    </tr>\n",
       "    <tr>\n",
       "      <th>22</th>\n",
       "      <td>0.003980</td>\n",
       "      <td>0.003168</td>\n",
       "      <td>0.005467</td>\n",
       "      <td>0.003836</td>\n",
       "      <td>0.084263</td>\n",
       "    </tr>\n",
       "    <tr>\n",
       "      <th>23</th>\n",
       "      <td>0.003316</td>\n",
       "      <td>0.003036</td>\n",
       "      <td>0.005334</td>\n",
       "      <td>0.004233</td>\n",
       "      <td>0.072450</td>\n",
       "    </tr>\n",
       "    <tr>\n",
       "      <th>24</th>\n",
       "      <td>0.003847</td>\n",
       "      <td>0.003036</td>\n",
       "      <td>0.005201</td>\n",
       "      <td>0.003704</td>\n",
       "      <td>0.089126</td>\n",
       "    </tr>\n",
       "    <tr>\n",
       "      <th>25</th>\n",
       "      <td>0.003051</td>\n",
       "      <td>0.002508</td>\n",
       "      <td>0.005201</td>\n",
       "      <td>0.003307</td>\n",
       "      <td>0.053957</td>\n",
       "    </tr>\n",
       "    <tr>\n",
       "      <th>26</th>\n",
       "      <td>0.002123</td>\n",
       "      <td>0.002112</td>\n",
       "      <td>0.004401</td>\n",
       "      <td>0.002646</td>\n",
       "      <td>0.085976</td>\n",
       "    </tr>\n",
       "    <tr>\n",
       "      <th>27</th>\n",
       "      <td>0.002521</td>\n",
       "      <td>0.002508</td>\n",
       "      <td>0.004801</td>\n",
       "      <td>0.003704</td>\n",
       "      <td>0.073990</td>\n",
       "    </tr>\n",
       "    <tr>\n",
       "      <th>28</th>\n",
       "      <td>0.003582</td>\n",
       "      <td>0.003828</td>\n",
       "      <td>0.006134</td>\n",
       "      <td>0.004498</td>\n",
       "      <td>0.032893</td>\n",
       "    </tr>\n",
       "    <tr>\n",
       "      <th>29</th>\n",
       "      <td>0.004643</td>\n",
       "      <td>0.004356</td>\n",
       "      <td>0.006801</td>\n",
       "      <td>0.004763</td>\n",
       "      <td>0.026939</td>\n",
       "    </tr>\n",
       "    <tr>\n",
       "      <th>...</th>\n",
       "      <td>...</td>\n",
       "      <td>...</td>\n",
       "      <td>...</td>\n",
       "      <td>...</td>\n",
       "      <td>...</td>\n",
       "    </tr>\n",
       "    <tr>\n",
       "      <th>4362</th>\n",
       "      <td>0.956445</td>\n",
       "      <td>0.953024</td>\n",
       "      <td>0.941879</td>\n",
       "      <td>0.950470</td>\n",
       "      <td>0.043155</td>\n",
       "    </tr>\n",
       "    <tr>\n",
       "      <th>4363</th>\n",
       "      <td>0.955002</td>\n",
       "      <td>0.950321</td>\n",
       "      <td>0.948024</td>\n",
       "      <td>0.947676</td>\n",
       "      <td>0.027638</td>\n",
       "    </tr>\n",
       "    <tr>\n",
       "      <th>4364</th>\n",
       "      <td>0.955766</td>\n",
       "      <td>0.953278</td>\n",
       "      <td>0.956815</td>\n",
       "      <td>0.948438</td>\n",
       "      <td>0.023945</td>\n",
       "    </tr>\n",
       "    <tr>\n",
       "      <th>4365</th>\n",
       "      <td>0.950587</td>\n",
       "      <td>0.947026</td>\n",
       "      <td>0.937697</td>\n",
       "      <td>0.939717</td>\n",
       "      <td>0.022913</td>\n",
       "    </tr>\n",
       "    <tr>\n",
       "      <th>4366</th>\n",
       "      <td>0.942012</td>\n",
       "      <td>0.958178</td>\n",
       "      <td>0.945293</td>\n",
       "      <td>0.958429</td>\n",
       "      <td>0.027675</td>\n",
       "    </tr>\n",
       "    <tr>\n",
       "      <th>4367</th>\n",
       "      <td>0.963832</td>\n",
       "      <td>0.959868</td>\n",
       "      <td>0.960143</td>\n",
       "      <td>0.956227</td>\n",
       "      <td>0.016711</td>\n",
       "    </tr>\n",
       "    <tr>\n",
       "      <th>4368</th>\n",
       "      <td>0.958568</td>\n",
       "      <td>0.957671</td>\n",
       "      <td>0.963387</td>\n",
       "      <td>0.958683</td>\n",
       "      <td>0.011527</td>\n",
       "    </tr>\n",
       "    <tr>\n",
       "      <th>4369</th>\n",
       "      <td>0.960945</td>\n",
       "      <td>0.962318</td>\n",
       "      <td>0.962704</td>\n",
       "      <td>0.955973</td>\n",
       "      <td>0.017016</td>\n",
       "    </tr>\n",
       "    <tr>\n",
       "      <th>4370</th>\n",
       "      <td>0.954747</td>\n",
       "      <td>0.955644</td>\n",
       "      <td>0.957839</td>\n",
       "      <td>0.956820</td>\n",
       "      <td>0.017091</td>\n",
       "    </tr>\n",
       "    <tr>\n",
       "      <th>4371</th>\n",
       "      <td>0.954662</td>\n",
       "      <td>0.950743</td>\n",
       "      <td>0.943672</td>\n",
       "      <td>0.938786</td>\n",
       "      <td>0.017128</td>\n",
       "    </tr>\n",
       "    <tr>\n",
       "      <th>4372</th>\n",
       "      <td>0.939465</td>\n",
       "      <td>0.948547</td>\n",
       "      <td>0.943416</td>\n",
       "      <td>0.941919</td>\n",
       "      <td>0.010458</td>\n",
       "    </tr>\n",
       "    <tr>\n",
       "      <th>4373</th>\n",
       "      <td>0.948719</td>\n",
       "      <td>0.950912</td>\n",
       "      <td>0.955535</td>\n",
       "      <td>0.951571</td>\n",
       "      <td>0.023887</td>\n",
       "    </tr>\n",
       "    <tr>\n",
       "      <th>4374</th>\n",
       "      <td>0.955002</td>\n",
       "      <td>0.949560</td>\n",
       "      <td>0.953230</td>\n",
       "      <td>0.944713</td>\n",
       "      <td>0.015317</td>\n",
       "    </tr>\n",
       "    <tr>\n",
       "      <th>4375</th>\n",
       "      <td>0.950248</td>\n",
       "      <td>0.950828</td>\n",
       "      <td>0.955876</td>\n",
       "      <td>0.950978</td>\n",
       "      <td>0.016295</td>\n",
       "    </tr>\n",
       "    <tr>\n",
       "      <th>4376</th>\n",
       "      <td>0.952540</td>\n",
       "      <td>0.949645</td>\n",
       "      <td>0.941879</td>\n",
       "      <td>0.934045</td>\n",
       "      <td>0.017115</td>\n",
       "    </tr>\n",
       "    <tr>\n",
       "      <th>4377</th>\n",
       "      <td>0.934541</td>\n",
       "      <td>0.931226</td>\n",
       "      <td>0.933174</td>\n",
       "      <td>0.930150</td>\n",
       "      <td>0.020427</td>\n",
       "    </tr>\n",
       "    <tr>\n",
       "      <th>4378</th>\n",
       "      <td>0.932673</td>\n",
       "      <td>0.942886</td>\n",
       "      <td>0.934966</td>\n",
       "      <td>0.939548</td>\n",
       "      <td>0.019441</td>\n",
       "    </tr>\n",
       "    <tr>\n",
       "      <th>4379</th>\n",
       "      <td>0.940314</td>\n",
       "      <td>0.943731</td>\n",
       "      <td>0.945635</td>\n",
       "      <td>0.939548</td>\n",
       "      <td>0.026888</td>\n",
       "    </tr>\n",
       "    <tr>\n",
       "      <th>4380</th>\n",
       "      <td>0.939890</td>\n",
       "      <td>0.934521</td>\n",
       "      <td>0.934284</td>\n",
       "      <td>0.926763</td>\n",
       "      <td>0.040751</td>\n",
       "    </tr>\n",
       "    <tr>\n",
       "      <th>4381</th>\n",
       "      <td>0.929447</td>\n",
       "      <td>0.929959</td>\n",
       "      <td>0.930870</td>\n",
       "      <td>0.927102</td>\n",
       "      <td>0.023344</td>\n",
       "    </tr>\n",
       "    <tr>\n",
       "      <th>4382</th>\n",
       "      <td>0.930975</td>\n",
       "      <td>0.929452</td>\n",
       "      <td>0.927883</td>\n",
       "      <td>0.918720</td>\n",
       "      <td>0.021981</td>\n",
       "    </tr>\n",
       "    <tr>\n",
       "      <th>4383</th>\n",
       "      <td>0.927664</td>\n",
       "      <td>0.929875</td>\n",
       "      <td>0.934284</td>\n",
       "      <td>0.930150</td>\n",
       "      <td>0.018601</td>\n",
       "    </tr>\n",
       "    <tr>\n",
       "      <th>4384</th>\n",
       "      <td>0.925626</td>\n",
       "      <td>0.928185</td>\n",
       "      <td>0.928053</td>\n",
       "      <td>0.919313</td>\n",
       "      <td>0.025434</td>\n",
       "    </tr>\n",
       "    <tr>\n",
       "      <th>4385</th>\n",
       "      <td>0.923079</td>\n",
       "      <td>0.925988</td>\n",
       "      <td>0.926261</td>\n",
       "      <td>0.926594</td>\n",
       "      <td>0.015984</td>\n",
       "    </tr>\n",
       "    <tr>\n",
       "      <th>4386</th>\n",
       "      <td>0.929871</td>\n",
       "      <td>0.932747</td>\n",
       "      <td>0.934028</td>\n",
       "      <td>0.934807</td>\n",
       "      <td>0.019493</td>\n",
       "    </tr>\n",
       "    <tr>\n",
       "      <th>4387</th>\n",
       "      <td>0.938107</td>\n",
       "      <td>0.935366</td>\n",
       "      <td>0.937015</td>\n",
       "      <td>0.931843</td>\n",
       "      <td>0.016434</td>\n",
       "    </tr>\n",
       "    <tr>\n",
       "      <th>4388</th>\n",
       "      <td>0.927324</td>\n",
       "      <td>0.930550</td>\n",
       "      <td>0.923103</td>\n",
       "      <td>0.919651</td>\n",
       "      <td>0.034936</td>\n",
       "    </tr>\n",
       "    <tr>\n",
       "      <th>4389</th>\n",
       "      <td>0.923164</td>\n",
       "      <td>0.921764</td>\n",
       "      <td>0.915337</td>\n",
       "      <td>0.922699</td>\n",
       "      <td>0.042107</td>\n",
       "    </tr>\n",
       "    <tr>\n",
       "      <th>4390</th>\n",
       "      <td>0.926815</td>\n",
       "      <td>0.925228</td>\n",
       "      <td>0.930272</td>\n",
       "      <td>0.923630</td>\n",
       "      <td>0.022959</td>\n",
       "    </tr>\n",
       "    <tr>\n",
       "      <th>4391</th>\n",
       "      <td>0.925456</td>\n",
       "      <td>0.941196</td>\n",
       "      <td>0.930358</td>\n",
       "      <td>0.930827</td>\n",
       "      <td>0.030749</td>\n",
       "    </tr>\n",
       "  </tbody>\n",
       "</table>\n",
       "<p>4392 rows × 5 columns</p>\n",
       "</div>"
      ],
      "text/plain": [
       "          Open      High       Low     Close    Volume\n",
       "0     0.004378  0.006469  0.006934  0.007408  0.075401\n",
       "1     0.007031  0.006205  0.008535  0.006482  0.019194\n",
       "2     0.005970  0.005413  0.008135  0.006350  0.005339\n",
       "3     0.005970  0.005149  0.007201  0.005027  0.036632\n",
       "4     0.003714  0.002904  0.003334  0.001191  0.167478\n",
       "5     0.001725  0.002640  0.003734  0.001588  0.244393\n",
       "6     0.001990  0.001584  0.000800  0.002117  0.280091\n",
       "7     0.001459  0.001452  0.003867  0.001984  0.133252\n",
       "8     0.001725  0.001716  0.004001  0.002778  0.151243\n",
       "9     0.002521  0.003564  0.005067  0.003043  0.296706\n",
       "10    0.003316  0.003036  0.005334  0.003307  0.110129\n",
       "11    0.002388  0.002244  0.004801  0.002778  0.138453\n",
       "12    0.002123  0.002112  0.004534  0.002778  0.180779\n",
       "13    0.002388  0.002244  0.004934  0.003076  0.144606\n",
       "14    0.002653  0.001980  0.004534  0.003043  0.052693\n",
       "15    0.002388  0.001848  0.004401  0.002646  0.060612\n",
       "16    0.002653  0.001980  0.004134  0.002249  0.058535\n",
       "17    0.002255  0.002244  0.004801  0.002910  0.096750\n",
       "18    0.002388  0.002508  0.004801  0.003440  0.094509\n",
       "19    0.002521  0.002244  0.004534  0.002646  0.078421\n",
       "20    0.002388  0.003300  0.004001  0.004366  0.096170\n",
       "21    0.004112  0.006205  0.006401  0.004895  0.111003\n",
       "22    0.003980  0.003168  0.005467  0.003836  0.084263\n",
       "23    0.003316  0.003036  0.005334  0.004233  0.072450\n",
       "24    0.003847  0.003036  0.005201  0.003704  0.089126\n",
       "25    0.003051  0.002508  0.005201  0.003307  0.053957\n",
       "26    0.002123  0.002112  0.004401  0.002646  0.085976\n",
       "27    0.002521  0.002508  0.004801  0.003704  0.073990\n",
       "28    0.003582  0.003828  0.006134  0.004498  0.032893\n",
       "29    0.004643  0.004356  0.006801  0.004763  0.026939\n",
       "...        ...       ...       ...       ...       ...\n",
       "4362  0.956445  0.953024  0.941879  0.950470  0.043155\n",
       "4363  0.955002  0.950321  0.948024  0.947676  0.027638\n",
       "4364  0.955766  0.953278  0.956815  0.948438  0.023945\n",
       "4365  0.950587  0.947026  0.937697  0.939717  0.022913\n",
       "4366  0.942012  0.958178  0.945293  0.958429  0.027675\n",
       "4367  0.963832  0.959868  0.960143  0.956227  0.016711\n",
       "4368  0.958568  0.957671  0.963387  0.958683  0.011527\n",
       "4369  0.960945  0.962318  0.962704  0.955973  0.017016\n",
       "4370  0.954747  0.955644  0.957839  0.956820  0.017091\n",
       "4371  0.954662  0.950743  0.943672  0.938786  0.017128\n",
       "4372  0.939465  0.948547  0.943416  0.941919  0.010458\n",
       "4373  0.948719  0.950912  0.955535  0.951571  0.023887\n",
       "4374  0.955002  0.949560  0.953230  0.944713  0.015317\n",
       "4375  0.950248  0.950828  0.955876  0.950978  0.016295\n",
       "4376  0.952540  0.949645  0.941879  0.934045  0.017115\n",
       "4377  0.934541  0.931226  0.933174  0.930150  0.020427\n",
       "4378  0.932673  0.942886  0.934966  0.939548  0.019441\n",
       "4379  0.940314  0.943731  0.945635  0.939548  0.026888\n",
       "4380  0.939890  0.934521  0.934284  0.926763  0.040751\n",
       "4381  0.929447  0.929959  0.930870  0.927102  0.023344\n",
       "4382  0.930975  0.929452  0.927883  0.918720  0.021981\n",
       "4383  0.927664  0.929875  0.934284  0.930150  0.018601\n",
       "4384  0.925626  0.928185  0.928053  0.919313  0.025434\n",
       "4385  0.923079  0.925988  0.926261  0.926594  0.015984\n",
       "4386  0.929871  0.932747  0.934028  0.934807  0.019493\n",
       "4387  0.938107  0.935366  0.937015  0.931843  0.016434\n",
       "4388  0.927324  0.930550  0.923103  0.919651  0.034936\n",
       "4389  0.923164  0.921764  0.915337  0.922699  0.042107\n",
       "4390  0.926815  0.925228  0.930272  0.923630  0.022959\n",
       "4391  0.925456  0.941196  0.930358  0.930827  0.030749\n",
       "\n",
       "[4392 rows x 5 columns]"
      ]
     },
     "execution_count": 7,
     "metadata": {},
     "output_type": "execute_result"
    }
   ],
   "source": [
    "df_x_lstm"
   ]
  },
  {
   "cell_type": "code",
   "execution_count": 8,
   "metadata": {
    "scrolled": true
   },
   "outputs": [
    {
     "name": "stderr",
     "output_type": "stream",
     "text": [
      "C:\\ProgramData\\Anaconda3\\lib\\site-packages\\ipykernel_launcher.py:1: FutureWarning: Method .as_matrix will be removed in a future version. Use .values instead.\n",
      "  \"\"\"Entry point for launching an IPython kernel.\n",
      "C:\\ProgramData\\Anaconda3\\lib\\site-packages\\ipykernel_launcher.py:2: FutureWarning: Method .as_matrix will be removed in a future version. Use .values instead.\n",
      "  \n"
     ]
    }
   ],
   "source": [
    "x_lstm = df_x_lstm.as_matrix()\n",
    "y_lstm = df_y_lstm['y'].as_matrix()"
   ]
  },
  {
   "cell_type": "code",
   "execution_count": 9,
   "metadata": {},
   "outputs": [
    {
     "name": "stdout",
     "output_type": "stream",
     "text": [
      "Shape of x_lstm_seq_train: (4385, 7, 1, 5)\n",
      "Shape of y_lstm_seq_train: (4385,)\n"
     ]
    }
   ],
   "source": [
    "SEQUENCE_SIZE = 7\n",
    "x_lstm_seq_train, y_lstm_seq_train = to_sequences(SEQUENCE_SIZE,x_lstm,y_lstm)\n",
    "#x_lstm_seq_test,y_lstm_seq_test = to_sequences(SEQUENCE_SIZE,X_test,y_test)\n",
    "\n",
    "print(\"Shape of x_lstm_seq_train: {}\".format(x_lstm_seq_train.shape))\n",
    "#print(\"Shape of x_test: {}\".format(x_lstm_seq_test.shape))\n",
    "print(\"Shape of y_lstm_seq_train: {}\".format(y_lstm_seq_train.shape))\n",
    "#print(\"Shape of y_test: {}\".format(y_lstm_seq_test.shape))"
   ]
  },
  {
   "cell_type": "code",
   "execution_count": 10,
   "metadata": {},
   "outputs": [],
   "source": [
    "x_lstm_seq_3d = x_lstm_seq_train.reshape(4385,7,5)"
   ]
  },
  {
   "cell_type": "code",
   "execution_count": 11,
   "metadata": {},
   "outputs": [],
   "source": [
    "X_train, X_test, y_train, y_test = train_test_split(x_lstm_seq_3d, y_lstm_seq_train, test_size=0.3, random_state=42)"
   ]
  },
  {
   "cell_type": "code",
   "execution_count": 12,
   "metadata": {},
   "outputs": [
    {
     "data": {
      "text/plain": [
       "3069"
      ]
     },
     "execution_count": 12,
     "metadata": {},
     "output_type": "execute_result"
    }
   ],
   "source": [
    "len(X_train)"
   ]
  },
  {
   "cell_type": "code",
   "execution_count": 13,
   "metadata": {},
   "outputs": [
    {
     "data": {
      "text/plain": [
       "3069"
      ]
     },
     "execution_count": 13,
     "metadata": {},
     "output_type": "execute_result"
    }
   ],
   "source": [
    "len(y_train)"
   ]
  },
  {
   "cell_type": "markdown",
   "metadata": {},
   "source": [
    "## Sequentializing Data"
   ]
  },
  {
   "cell_type": "code",
   "execution_count": 14,
   "metadata": {},
   "outputs": [],
   "source": [
    "X_train = X_train.astype('float32')\n",
    "X_test = X_test.astype('float32')\n",
    "y_train = y_train.astype('float32')\n",
    "y_test = y_test.astype('float32')\n"
   ]
  },
  {
   "cell_type": "code",
   "execution_count": 84,
   "metadata": {},
   "outputs": [
    {
     "name": "stdout",
     "output_type": "stream",
     "text": [
      "Build model...\n",
      "Train...\n",
      "Train on 3069 samples, validate on 1316 samples\n",
      "Epoch 1/1000\n",
      "3069/3069 - 22s - loss: 1187.3242 - val_loss: 151.6676\n",
      "Epoch 2/1000\n",
      "3069/3069 - 2s - loss: 123.0224 - val_loss: 35.2020\n",
      "Epoch 3/1000\n",
      "3069/3069 - 2s - loss: 67.0478 - val_loss: 20.0918\n",
      "Epoch 4/1000\n",
      "3069/3069 - 2s - loss: 42.2313 - val_loss: 26.5769\n",
      "Epoch 5/1000\n",
      "3069/3069 - 2s - loss: 31.3510 - val_loss: 39.4430\n",
      "Epoch 6/1000\n",
      "3069/3069 - 2s - loss: 24.1815 - val_loss: 29.4740\n",
      "Epoch 7/1000\n",
      "3069/3069 - 2s - loss: 22.4623 - val_loss: 32.0967\n",
      "Epoch 8/1000\n",
      "3069/3069 - 2s - loss: 23.8444 - val_loss: 26.6859\n",
      "Epoch 00008: early stopping\n"
     ]
    },
    {
     "data": {
      "text/plain": [
       "<tensorflow.python.keras.callbacks.History at 0x2503b9b3400>"
      ]
     },
     "execution_count": 84,
     "metadata": {},
     "output_type": "execute_result"
    }
   ],
   "source": [
    "from tensorflow.keras.models import Sequential\n",
    "from tensorflow.keras.layers import Dense, Embedding\n",
    "from tensorflow.keras.layers import LSTM\n",
    "from tensorflow.keras.callbacks import EarlyStopping\n",
    "import numpy as np\n",
    "\n",
    "print('Build model...')\n",
    "model_relu_adam = Sequential()\n",
    "\n",
    "model_relu_adam.add(LSTM(34,dropout=0.1, recurrent_dropout=0.1, activation = 'relu', input_shape=(SEQUENCE_SIZE, 5)))\n",
    "#model_relu_adam.add(LSTM(34,dropout=0.1, recurrent_dropout=0.1, activation = 'relu', input_shape=(SEQUENCE_SIZE, 5)))\n",
    "model_relu_adam.add(Dense(16))\n",
    "model_relu_adam.add(Dense(5))\n",
    "model_relu_adam.add(Dense(1))\n",
    "\n",
    "model_relu_adam.compile(loss='mean_squared_error', optimizer='adam')\n",
    "\n",
    "monitor = EarlyStopping(monitor='val_loss', min_delta=1e-3, patience=5, verbose=1, mode='auto')\n",
    "print('Train...')\n",
    "\n",
    "model_relu_adam.fit(X_train,y_train,validation_data=(X_test,y_test), callbacks=[monitor],verbose=2,epochs = 1000)"
   ]
  },
  {
   "cell_type": "code",
   "execution_count": 82,
   "metadata": {},
   "outputs": [
    {
     "name": "stdout",
     "output_type": "stream",
     "text": [
      "Score_relu_adam_train (RMSE): 5.683949947357178\n",
      "Score_relu_adam_test (RMSE): 5.512479305267334\n"
     ]
    },
    {
     "data": {
      "image/png": "[encoded data removed]",
      "text/plain": [
       "<Figure size 432x288 with 1 Axes>"
      ]
     },
     "metadata": {
      "needs_background": "light"
     },
     "output_type": "display_data"
    },
    {
     "data": {
      "image/png": "[encoded data removed]",
      "text/plain": [
       "<Figure size 432x288 with 1 Axes>"
      ]
     },
     "metadata": {
      "needs_background": "light"
     },
     "output_type": "display_data"
    }
   ],
   "source": [
    "from sklearn import metrics\n",
    "\n",
    "pred_train = model_relu_adam.predict(X_train)\n",
    "score_train = np.sqrt(metrics.mean_squared_error(pred_train,y_train))\n",
    "print(\"Score_relu_adam_train (RMSE): {}\".format(score_train))\n",
    "\n",
    "pred_test = model_relu_adam.predict(X_test)\n",
    "score_test = np.sqrt(metrics.mean_squared_error(pred_test,y_test))\n",
    "print(\"Score_relu_adam_test (RMSE): {}\".format(score_test))\n",
    "\n",
    "#chart_regression(pred.flatten(),y_lstm_seq_test, sort=True)\n",
    "chart_regression(pred_train.flatten(),y_train, sort=True)\n",
    "chart_regression(pred_test.flatten(),y_test, sort=True)"
   ]
  },
  {
   "cell_type": "code",
   "execution_count": 76,
   "metadata": {},
   "outputs": [
    {
     "name": "stdout",
     "output_type": "stream",
     "text": [
      "Build model...\n",
      "Train...\n",
      "Train on 3069 samples, validate on 1316 samples\n",
      "Epoch 1/1000\n",
      "3069/3069 - 26s - loss: 1331.4321 - val_loss: 857.3822\n",
      "Epoch 2/1000\n",
      "3069/3069 - 4s - loss: 894.1951 - val_loss: 824.0924\n",
      "Epoch 3/1000\n",
      "3069/3069 - 4s - loss: 742.4507 - val_loss: 455.8662\n",
      "Epoch 4/1000\n",
      "3069/3069 - 4s - loss: 242.0397 - val_loss: 36.8328\n",
      "Epoch 5/1000\n",
      "3069/3069 - 4s - loss: 61.6350 - val_loss: 20.3521\n",
      "Epoch 6/1000\n",
      "3069/3069 - 4s - loss: 53.8695 - val_loss: 11.7483\n",
      "Epoch 7/1000\n",
      "3069/3069 - 4s - loss: 48.6724 - val_loss: 9.7638\n",
      "Epoch 8/1000\n",
      "3069/3069 - 4s - loss: 41.3774 - val_loss: 9.9191\n",
      "Epoch 9/1000\n",
      "3069/3069 - 4s - loss: 39.9771 - val_loss: 5.3713\n",
      "Epoch 10/1000\n",
      "3069/3069 - 4s - loss: 37.7163 - val_loss: 5.2269\n",
      "Epoch 11/1000\n",
      "3069/3069 - 4s - loss: 35.2060 - val_loss: 4.4304\n",
      "Epoch 12/1000\n",
      "3069/3069 - 4s - loss: 31.7697 - val_loss: 3.4229\n",
      "Epoch 13/1000\n",
      "3069/3069 - 4s - loss: 32.2833 - val_loss: 6.9594\n",
      "Epoch 14/1000\n",
      "3069/3069 - 4s - loss: 32.3978 - val_loss: 14.2235\n",
      "Epoch 15/1000\n",
      "3069/3069 - 4s - loss: 28.7440 - val_loss: 4.2233\n",
      "Epoch 16/1000\n",
      "3069/3069 - 4s - loss: 28.1276 - val_loss: 3.2961\n",
      "Epoch 17/1000\n",
      "3069/3069 - 4s - loss: 27.8834 - val_loss: 2.9888\n",
      "Epoch 18/1000\n",
      "3069/3069 - 4s - loss: 28.9500 - val_loss: 2.9702\n",
      "Epoch 19/1000\n",
      "3069/3069 - 4s - loss: 26.1488 - val_loss: 2.5667\n",
      "Epoch 20/1000\n",
      "3069/3069 - 4s - loss: 26.7553 - val_loss: 2.1267\n",
      "Epoch 21/1000\n",
      "3069/3069 - 4s - loss: 23.3027 - val_loss: 3.6197\n",
      "Epoch 22/1000\n",
      "3069/3069 - 4s - loss: 24.5503 - val_loss: 2.0780\n",
      "Epoch 23/1000\n",
      "3069/3069 - 4s - loss: 27.9884 - val_loss: 3.1598\n",
      "Epoch 24/1000\n",
      "3069/3069 - 4s - loss: 25.8611 - val_loss: 2.5141\n",
      "Epoch 25/1000\n",
      "3069/3069 - 4s - loss: 24.3547 - val_loss: 4.1447\n",
      "Epoch 26/1000\n",
      "3069/3069 - 4s - loss: 24.4211 - val_loss: 2.1681\n",
      "Epoch 27/1000\n",
      "3069/3069 - 4s - loss: 24.2656 - val_loss: 2.0709\n",
      "Epoch 28/1000\n",
      "3069/3069 - 4s - loss: 24.3052 - val_loss: 5.0969\n",
      "Epoch 29/1000\n",
      "3069/3069 - 3s - loss: 24.2738 - val_loss: 1.8614\n",
      "Epoch 30/1000\n",
      "3069/3069 - 4s - loss: 21.5626 - val_loss: 3.3992\n",
      "Epoch 31/1000\n",
      "3069/3069 - 4s - loss: 22.9881 - val_loss: 2.1834\n",
      "Epoch 32/1000\n",
      "3069/3069 - 3s - loss: 22.2077 - val_loss: 2.0248\n",
      "Epoch 33/1000\n",
      "3069/3069 - 4s - loss: 22.7364 - val_loss: 4.2052\n",
      "Epoch 34/1000\n",
      "3069/3069 - 4s - loss: 24.7996 - val_loss: 3.9924\n",
      "Epoch 00034: early stopping\n"
     ]
    },
    {
     "data": {
      "text/plain": [
       "<tensorflow.python.keras.callbacks.History at 0x24fd0253198>"
      ]
     },
     "execution_count": 76,
     "metadata": {},
     "output_type": "execute_result"
    }
   ],
   "source": [
    "from tensorflow.keras.models import Sequential\n",
    "from tensorflow.keras.layers import Dense, Embedding\n",
    "from tensorflow.keras.layers import LSTM\n",
    "from tensorflow.keras.callbacks import EarlyStopping\n",
    "import numpy as np\n",
    "\n",
    "print('Build model...')\n",
    "model_sigmoid = Sequential()\n",
    "\n",
    "model_sigmoid.add(LSTM(34,dropout=0.1, recurrent_dropout=0.1, activation = 'sigmoid', input_shape=(SEQUENCE_SIZE, 5),return_sequences=True))\n",
    "model_sigmoid.add(LSTM(34,dropout=0.1, recurrent_dropout=0.1, activation = 'sigmoid'))\n",
    "model_sigmoid.add(Dense(16))\n",
    "model_sigmoid.add(Dense(16))\n",
    "model_sigmoid.add(Dense(1))\n",
    "\n",
    "model_sigmoid.compile(loss='mean_squared_error', optimizer='adam')\n",
    "\n",
    "monitor = EarlyStopping(monitor='val_loss', min_delta=1e-3, patience=5, verbose=1, mode='auto')\n",
    "print('Train...')\n",
    "\n",
    "model_sigmoid.fit(X_train,y_train,validation_data=(X_test,y_test), callbacks=[monitor],verbose=2,epochs = 1000)"
   ]
  },
  {
   "cell_type": "code",
   "execution_count": 77,
   "metadata": {},
   "outputs": [
    {
     "name": "stdout",
     "output_type": "stream",
     "text": [
      "Score_sigmoid_adam_train (RMSE): 2.0125792026519775\n",
      "Score_sigmoid_adam_test (RMSE): 1.9980888366699219\n"
     ]
    },
    {
     "data": {
      "image/png": "[encoded data removed]",
      "text/plain": [
       "<Figure size 432x288 with 1 Axes>"
      ]
     },
     "metadata": {
      "needs_background": "light"
     },
     "output_type": "display_data"
    },
    {
     "data": {
      "image/png": "[encoded data removed]",
      "text/plain": [
       "<Figure size 432x288 with 1 Axes>"
      ]
     },
     "metadata": {
      "needs_background": "light"
     },
     "output_type": "display_data"
    }
   ],
   "source": [
    "from sklearn import metrics\n",
    "\n",
    "pred_train = model_sigmoid.predict(X_train)\n",
    "score_train = np.sqrt(metrics.mean_squared_error(pred_train,y_train))\n",
    "print(\"Score_sigmoid_adam_train (RMSE): {}\".format(score_train))\n",
    "\n",
    "pred_test = model_sigmoid.predict(X_test)\n",
    "score_test = np.sqrt(metrics.mean_squared_error(pred_test,y_test))\n",
    "print(\"Score_sigmoid_adam_test (RMSE): {}\".format(score_test))\n",
    "\n",
    "#chart_regression(pred.flatten(),y_lstm_seq_test, sort=True)\n",
    "chart_regression(pred_train.flatten(),y_train, sort=True)\n",
    "chart_regression(pred_test.flatten(),y_test, sort=True)"
   ]
  },
  {
   "cell_type": "code",
   "execution_count": 21,
   "metadata": {
    "scrolled": true
   },
   "outputs": [
    {
     "name": "stdout",
     "output_type": "stream",
     "text": [
      "Build model...\n",
      "Train...\n",
      "Train on 3069 samples, validate on 1316 samples\n",
      "Epoch 1/1000\n",
      "3069/3069 - 3s - loss: 1254.1669 - val_loss: 168.4302\n",
      "Epoch 2/1000\n",
      "3069/3069 - 1s - loss: 75.9707 - val_loss: 7.3588\n",
      "Epoch 3/1000\n",
      "3069/3069 - 1s - loss: 35.4208 - val_loss: 4.4041\n",
      "Epoch 4/1000\n",
      "3069/3069 - 1s - loss: 32.0816 - val_loss: 3.1223\n",
      "Epoch 5/1000\n",
      "3069/3069 - 1s - loss: 26.6175 - val_loss: 2.7570\n",
      "Epoch 6/1000\n",
      "3069/3069 - 1s - loss: 32.1290 - val_loss: 2.5675\n",
      "Epoch 7/1000\n",
      "3069/3069 - 1s - loss: 23.9995 - val_loss: 7.8926\n",
      "Epoch 8/1000\n",
      "3069/3069 - 1s - loss: 24.1079 - val_loss: 3.2209\n",
      "Epoch 9/1000\n",
      "3069/3069 - 1s - loss: 25.3262 - val_loss: 2.3139\n",
      "Epoch 10/1000\n",
      "3069/3069 - 1s - loss: 23.2664 - val_loss: 2.2292\n",
      "Epoch 11/1000\n",
      "3069/3069 - 1s - loss: 23.6631 - val_loss: 2.8592\n",
      "Epoch 12/1000\n",
      "3069/3069 - 1s - loss: 18.9771 - val_loss: 1.8191\n",
      "Epoch 13/1000\n",
      "3069/3069 - 1s - loss: 17.8395 - val_loss: 2.2606\n",
      "Epoch 14/1000\n",
      "3069/3069 - 1s - loss: 18.7938 - val_loss: 6.8940\n",
      "Epoch 15/1000\n",
      "3069/3069 - 1s - loss: 16.3289 - val_loss: 3.6096\n",
      "Epoch 16/1000\n",
      "3069/3069 - 1s - loss: 17.7434 - val_loss: 3.1525\n",
      "Epoch 17/1000\n",
      "3069/3069 - 1s - loss: 18.4111 - val_loss: 4.3181\n",
      "Epoch 00017: early stopping\n"
     ]
    },
    {
     "data": {
      "text/plain": [
       "<tensorflow.python.keras.callbacks.History at 0x24da59616a0>"
      ]
     },
     "execution_count": 21,
     "metadata": {},
     "output_type": "execute_result"
    }
   ],
   "source": [
    "from tensorflow.keras.models import Sequential\n",
    "from tensorflow.keras.layers import Dense, Embedding\n",
    "from tensorflow.keras.layers import LSTM\n",
    "from tensorflow.keras.callbacks import EarlyStopping\n",
    "import numpy as np\n",
    "\n",
    "print('Build model...')\n",
    "model_tanh_adam = Sequential()\n",
    "\n",
    "model_tanh_adam.add(LSTM(34,dropout=0.1, recurrent_dropout=0.1, activation = 'tanh', input_shape=(SEQUENCE_SIZE, 5)))\n",
    "model_tanh_adam.add(Dense(16))\n",
    "model_tanh_adam.add(Dense(16))\n",
    "model_tanh_adam.add(Dense(1))\n",
    "\n",
    "model_tanh_adam.compile(loss='mean_squared_error', optimizer='adam')\n",
    "\n",
    "monitor = EarlyStopping(monitor='val_loss', min_delta=1e-3, patience=5, verbose=1, mode='auto')\n",
    "print('Train...')\n",
    "\n",
    "model_tanh_adam.fit(X_train,y_train,validation_data=(X_test,y_test), callbacks=[monitor],verbose=2,epochs = 1000)"
   ]
  },
  {
   "cell_type": "code",
   "execution_count": 78,
   "metadata": {},
   "outputs": [
    {
     "name": "stdout",
     "output_type": "stream",
     "text": [
      "Score_tanh_adam_train (RMSE): 2.1306040287017822\n",
      "Score_tanh_adam_test (RMSE): 2.0779974460601807\n"
     ]
    },
    {
     "data": {
      "image/png": "[encoded data removed]",
      "text/plain": [
       "<Figure size 432x288 with 1 Axes>"
      ]
     },
     "metadata": {
      "needs_background": "light"
     },
     "output_type": "display_data"
    },
    {
     "data": {
      "image/png": "[encoded data removed]",
      "text/plain": [
       "<Figure size 432x288 with 1 Axes>"
      ]
     },
     "metadata": {
      "needs_background": "light"
     },
     "output_type": "display_data"
    }
   ],
   "source": [
    "from sklearn import metrics\n",
    "\n",
    "pred_train = model_tanh_adam.predict(X_train)\n",
    "score_train = np.sqrt(metrics.mean_squared_error(pred_train,y_train))\n",
    "print(\"Score_tanh_adam_train (RMSE): {}\".format(score_train))\n",
    "\n",
    "pred_test = model_tanh_adam.predict(X_test)\n",
    "score_test = np.sqrt(metrics.mean_squared_error(pred_test,y_test))\n",
    "print(\"Score_tanh_adam_test (RMSE): {}\".format(score_test))\n",
    "\n",
    "#chart_regression(pred.flatten(),y_lstm_seq_test, sort=True)\n",
    "chart_regression(pred_train.flatten(),y_train, sort=True)\n",
    "chart_regression(pred_test.flatten(),y_test, sort=True)"
   ]
  },
  {
   "cell_type": "code",
   "execution_count": 66,
   "metadata": {},
   "outputs": [
    {
     "name": "stdout",
     "output_type": "stream",
     "text": [
      "Build model...\n",
      "Train...\n",
      "Train on 3069 samples, validate on 1316 samples\n",
      "Epoch 1/1000\n",
      "3069/3069 - 17s - loss: 1029.5392 - val_loss: 859.8737\n",
      "Epoch 2/1000\n",
      "3069/3069 - 1s - loss: 925.8468 - val_loss: 856.1280\n",
      "Epoch 3/1000\n",
      "3069/3069 - 1s - loss: 919.2921 - val_loss: 880.7765\n",
      "Epoch 4/1000\n",
      "3069/3069 - 1s - loss: 926.9728 - val_loss: 998.8580\n",
      "Epoch 5/1000\n",
      "3069/3069 - 1s - loss: 926.5906 - val_loss: 891.5856\n",
      "Epoch 6/1000\n",
      "3069/3069 - 1s - loss: 934.8623 - val_loss: 859.6290\n",
      "Epoch 7/1000\n",
      "3069/3069 - 1s - loss: 927.1701 - val_loss: 855.9014\n",
      "Epoch 8/1000\n",
      "3069/3069 - 1s - loss: 924.5830 - val_loss: 861.5682\n",
      "Epoch 9/1000\n",
      "3069/3069 - 1s - loss: 931.6132 - val_loss: 902.2783\n",
      "Epoch 10/1000\n",
      "3069/3069 - 1s - loss: 930.7969 - val_loss: 879.7422\n",
      "Epoch 11/1000\n",
      "3069/3069 - 1s - loss: 920.2509 - val_loss: 893.0683\n",
      "Epoch 12/1000\n",
      "3069/3069 - 1s - loss: 929.5258 - val_loss: 855.8553\n",
      "Epoch 13/1000\n",
      "3069/3069 - 1s - loss: 920.4175 - val_loss: 858.9329\n",
      "Epoch 14/1000\n",
      "3069/3069 - 1s - loss: 935.7067 - val_loss: 865.0930\n",
      "Epoch 15/1000\n",
      "3069/3069 - 1s - loss: 922.8132 - val_loss: 858.9722\n",
      "Epoch 16/1000\n",
      "3069/3069 - 1s - loss: 927.9385 - val_loss: 855.6962\n",
      "Epoch 17/1000\n",
      "3069/3069 - 1s - loss: 913.9585 - val_loss: 856.5766\n",
      "Epoch 18/1000\n",
      "3069/3069 - 1s - loss: 924.6322 - val_loss: 910.9110\n",
      "Epoch 19/1000\n",
      "3069/3069 - 1s - loss: 932.5299 - val_loss: 858.9468\n",
      "Epoch 20/1000\n",
      "3069/3069 - 1s - loss: 930.7802 - val_loss: 863.2141\n",
      "Epoch 21/1000\n",
      "3069/3069 - 1s - loss: 923.1618 - val_loss: 866.5539\n",
      "Epoch 00021: early stopping\n"
     ]
    },
    {
     "data": {
      "text/plain": [
       "<tensorflow.python.keras.callbacks.History at 0x24fa22ea6d8>"
      ]
     },
     "execution_count": 66,
     "metadata": {},
     "output_type": "execute_result"
    }
   ],
   "source": [
    "from tensorflow.keras.models import Sequential\n",
    "from tensorflow.keras.layers import Dense, Embedding\n",
    "from tensorflow.keras.layers import LSTM\n",
    "from tensorflow.keras.callbacks import EarlyStopping\n",
    "import numpy as np\n",
    "from tensorflow.keras import optimizers\n",
    "\n",
    "\n",
    "Constant = initializers.Constant(value=0)\n",
    "print('Build model...')\n",
    "model_sgd_relu = Sequential()\n",
    "model_sgd_relu.add(LSTM(10,dropout=0.5, recurrent_dropout=0.1, activation = 'relu',kernel_initializer = Constant, input_shape=(SEQUENCE_SIZE, 5)))\n",
    "#model_sgd_relu.add(LSTM(34,dropout=0.1, recurrent_dropout=0.1, activation = 'relu',return_sequences=True))\n",
    "#model_sgd_relu.add(LSTM(20,dropout=0.1, recurrent_dropout=0.1, activation = 'relu'))\n",
    "#model_sgd_relu.add(Dense(16))\n",
    "model_sgd_relu.add(Dense(10))\n",
    "model_sgd_relu.add(Dense(1))\n",
    "sgd = optimizers.SGD(lr=0.01, decay=1e-6, momentum=0.3, nesterov=True)\n",
    "model_sgd_relu.compile(loss='mean_squared_error', optimizer= sgd)\n",
    "\n",
    "monitor = EarlyStopping(monitor='val_loss', min_delta=1e-3, patience=5, verbose=1, mode='auto')\n",
    "print('Train...')\n",
    "\n",
    "model_sgd_relu.fit(X_train,y_train,validation_data=(X_test,y_test), callbacks=[monitor],batch_size =128,verbose=2,epochs = 1000)"
   ]
  },
  {
   "cell_type": "code",
   "execution_count": 79,
   "metadata": {},
   "outputs": [
    {
     "name": "stdout",
     "output_type": "stream",
     "text": [
      "Score_sgd_relu_train (RMSE): 30.589622497558594\n",
      "Score_sgd_relu_test (RMSE): 29.437288284301758\n"
     ]
    },
    {
     "data": {
      "image/png": "[encoded data removed]",
      "text/plain": [
       "<Figure size 432x288 with 1 Axes>"
      ]
     },
     "metadata": {
      "needs_background": "light"
     },
     "output_type": "display_data"
    },
    {
     "data": {
      "image/png": "[encoded data removed]",
      "text/plain": [
       "<Figure size 432x288 with 1 Axes>"
      ]
     },
     "metadata": {
      "needs_background": "light"
     },
     "output_type": "display_data"
    }
   ],
   "source": [
    "from sklearn import metrics\n",
    "\n",
    "pred_train = model_sgd_relu.predict(X_train)\n",
    "score_train = np.sqrt(metrics.mean_squared_error(pred_train,y_train))\n",
    "print(\"Score_sgd_relu_train (RMSE): {}\".format(score_train))\n",
    "\n",
    "pred_test = model_sgd_relu.predict(X_test)\n",
    "score_test = np.sqrt(metrics.mean_squared_error(pred_test,y_test))\n",
    "print(\"Score_sgd_relu_test (RMSE): {}\".format(score_test))\n",
    "\n",
    "#chart_regression(pred.flatten(),y_lstm_seq_test, sort=True)\n",
    "chart_regression(pred_train.flatten(),y_train, sort=True)\n",
    "chart_regression(pred_test.flatten(),y_test, sort=True)"
   ]
  },
  {
   "cell_type": "code",
   "execution_count": 69,
   "metadata": {},
   "outputs": [
    {
     "name": "stdout",
     "output_type": "stream",
     "text": [
      "Build model...\n",
      "Train...\n",
      "Train on 3069 samples, validate on 1316 samples\n",
      "Epoch 1/1000\n",
      "3069/3069 - 17s - loss: 1006.5088 - val_loss: 660.3490\n",
      "Epoch 2/1000\n",
      "3069/3069 - 1s - loss: 353.0070 - val_loss: 453.6844\n",
      "Epoch 3/1000\n",
      "3069/3069 - 1s - loss: 294.9835 - val_loss: 103.5484\n",
      "Epoch 4/1000\n",
      "3069/3069 - 1s - loss: 208.3757 - val_loss: 303.9093\n",
      "Epoch 5/1000\n",
      "3069/3069 - 1s - loss: 75.9452 - val_loss: 195.2219\n",
      "Epoch 6/1000\n",
      "3069/3069 - 1s - loss: 138.7695 - val_loss: 35.3707\n",
      "Epoch 7/1000\n",
      "3069/3069 - 1s - loss: 97.5003 - val_loss: 81.5769\n",
      "Epoch 8/1000\n",
      "3069/3069 - 1s - loss: 91.1364 - val_loss: 13.5551\n",
      "Epoch 9/1000\n",
      "3069/3069 - 1s - loss: 96.1811 - val_loss: 12.3061\n",
      "Epoch 10/1000\n",
      "3069/3069 - 1s - loss: 49.5724 - val_loss: 84.5680\n",
      "Epoch 11/1000\n",
      "3069/3069 - 1s - loss: 83.8331 - val_loss: 3.6344\n",
      "Epoch 12/1000\n",
      "3069/3069 - 1s - loss: 69.7611 - val_loss: 29.9171\n",
      "Epoch 13/1000\n",
      "3069/3069 - 1s - loss: 42.1674 - val_loss: 20.9565\n",
      "Epoch 14/1000\n",
      "3069/3069 - 1s - loss: 62.6688 - val_loss: 24.3137\n",
      "Epoch 15/1000\n",
      "3069/3069 - 1s - loss: 36.3474 - val_loss: 71.3586\n",
      "Epoch 16/1000\n",
      "3069/3069 - 1s - loss: 55.2739 - val_loss: 51.4865\n",
      "Epoch 00016: early stopping\n"
     ]
    },
    {
     "data": {
      "text/plain": [
       "<tensorflow.python.keras.callbacks.History at 0x24fae47a860>"
      ]
     },
     "execution_count": 69,
     "metadata": {},
     "output_type": "execute_result"
    }
   ],
   "source": [
    "from tensorflow.keras.models import Sequential\n",
    "from tensorflow.keras.layers import Dense, Embedding\n",
    "from tensorflow.keras.layers import LSTM\n",
    "from tensorflow.keras.callbacks import EarlyStopping\n",
    "import numpy as np\n",
    "from tensorflow.keras import optimizers\n",
    "\n",
    "print('Build model...')\n",
    "model_sgd_sigmoid = Sequential()\n",
    "\n",
    "model_sgd_sigmoid.add(LSTM(16,dropout=0.1, recurrent_dropout=0.1, activation = 'sigmoid', input_shape=(SEQUENCE_SIZE, 5)))\n",
    "#model_sgd_relu.add(Dense(16))\n",
    "model_sgd_sigmoid.add(Dense(10))\n",
    "model_sgd_sigmoid.add(Dense(1))\n",
    "sgd = optimizers.SGD(lr=0.01, decay=1e-6, momentum=0.3, nesterov=True)\n",
    "model_sgd_sigmoid.compile(loss='mean_squared_error', optimizer= sgd)\n",
    "\n",
    "monitor = EarlyStopping(monitor='val_loss', min_delta=1e-3, patience=5, verbose=1, mode='auto')\n",
    "print('Train...')\n",
    "\n",
    "model_sgd_sigmoid.fit(X_train,y_train,validation_data=(X_test,y_test), callbacks=[monitor],batch_size =128,verbose=2,epochs = 1000)"
   ]
  },
  {
   "cell_type": "code",
   "execution_count": 80,
   "metadata": {},
   "outputs": [
    {
     "name": "stdout",
     "output_type": "stream",
     "text": [
      "Score_sgd_sigmoid_train (RMSE): 7.602453231811523\n",
      "Score_sgd_sigmoid_test (RMSE): 7.175408363342285\n"
     ]
    },
    {
     "data": {
      "image/png": "[encoded data removed]",
      "text/plain": [
       "<Figure size 432x288 with 1 Axes>"
      ]
     },
     "metadata": {
      "needs_background": "light"
     },
     "output_type": "display_data"
    },
    {
     "data": {
      "image/png": "[encoded data removed]",
      "text/plain": [
       "<Figure size 432x288 with 1 Axes>"
      ]
     },
     "metadata": {
      "needs_background": "light"
     },
     "output_type": "display_data"
    }
   ],
   "source": [
    "from sklearn import metrics\n",
    "\n",
    "pred_train = model_sgd_sigmoid.predict(X_train)\n",
    "score_train = np.sqrt(metrics.mean_squared_error(pred_train,y_train))\n",
    "print(\"Score_sgd_sigmoid_train (RMSE): {}\".format(score_train))\n",
    "\n",
    "pred_test = model_sgd_sigmoid.predict(X_test)\n",
    "score_test = np.sqrt(metrics.mean_squared_error(pred_test,y_test))\n",
    "print(\"Score_sgd_sigmoid_test (RMSE): {}\".format(score_test))\n",
    "\n",
    "#chart_regression(pred.flatten(),y_lstm_seq_test, sort=True)\n",
    "chart_regression(pred_train.flatten(),y_train, sort=True)\n",
    "chart_regression(pred_test.flatten(),y_test, sort=True)"
   ]
  },
  {
   "cell_type": "code",
   "execution_count": 74,
   "metadata": {},
   "outputs": [
    {
     "name": "stdout",
     "output_type": "stream",
     "text": [
      "Build model...\n",
      "Train...\n",
      "Train on 3069 samples, validate on 1316 samples\n",
      "Epoch 1/1000\n",
      "3069/3069 - 20s - loss: nan - val_loss: nan\n",
      "Epoch 2/1000\n",
      "3069/3069 - 2s - loss: nan - val_loss: nan\n",
      "Epoch 3/1000\n",
      "3069/3069 - 2s - loss: nan - val_loss: nan\n",
      "Epoch 4/1000\n",
      "3069/3069 - 2s - loss: nan - val_loss: nan\n",
      "Epoch 5/1000\n",
      "3069/3069 - 2s - loss: nan - val_loss: nan\n",
      "Epoch 00005: early stopping\n"
     ]
    },
    {
     "data": {
      "text/plain": [
       "<tensorflow.python.keras.callbacks.History at 0x24fc7edb4a8>"
      ]
     },
     "execution_count": 74,
     "metadata": {},
     "output_type": "execute_result"
    }
   ],
   "source": [
    "from tensorflow.keras.models import Sequential\n",
    "from tensorflow.keras.layers import Dense, Embedding\n",
    "from tensorflow.keras.layers import LSTM\n",
    "from tensorflow.keras.callbacks import EarlyStopping\n",
    "import numpy as np\n",
    "from tensorflow.keras import optimizers\n",
    "\n",
    "print('Build model...')\n",
    "model_sgd_tanh = Sequential()\n",
    "#Constant = initializers.Constant(value=0)\n",
    "model_sgd_tanh.add(LSTM(16,dropout=0.1, recurrent_dropout=0.1, activation = 'tanh',kernel_initializer = 'RandomUniform', input_shape=(SEQUENCE_SIZE, 5)))\n",
    "#model_sgd_relu.add(Dense(16))\n",
    "model_sgd_tanh.add(Dense(10))\n",
    "model_sgd_tanh.add(Dense(1))\n",
    "sgd = optimizers.SGD(lr=0.01, decay=1e-6, momentum=0.3, nesterov=True)\n",
    "model_sgd_tanh.compile(loss='mean_squared_error', optimizer= sgd)\n",
    "\n",
    "monitor = EarlyStopping(monitor='val_loss', min_delta=1e-3, patience=5, verbose=1, mode='auto')\n",
    "print('Train...')\n",
    "\n",
    "model_sgd_tanh.fit(X_train,y_train,validation_data=(X_test,y_test), callbacks=[monitor],batch_size =32,verbose=2,epochs = 1000)"
   ]
  },
  {
   "cell_type": "code",
   "execution_count": 48,
   "metadata": {},
   "outputs": [
    {
     "ename": "ValueError",
     "evalue": "Input contains NaN, infinity or a value too large for dtype('float32').",
     "output_type": "error",
     "traceback": [
      "\u001b[1;31m---------------------------------------------------------------------------\u001b[0m",
      "\u001b[1;31mValueError\u001b[0m                                Traceback (most recent call last)",
      "\u001b[1;32m<ipython-input-48-cc5e5f7b341e>\u001b[0m in \u001b[0;36m<module>\u001b[1;34m\u001b[0m\n\u001b[0;32m      6\u001b[0m \u001b[1;33m\u001b[0m\u001b[0m\n\u001b[0;32m      7\u001b[0m \u001b[0mpred\u001b[0m \u001b[1;33m=\u001b[0m \u001b[0mmodel_sgd_tanh\u001b[0m\u001b[1;33m.\u001b[0m\u001b[0mpredict\u001b[0m\u001b[1;33m(\u001b[0m\u001b[0mX_test\u001b[0m\u001b[1;33m)\u001b[0m\u001b[1;33m\u001b[0m\u001b[1;33m\u001b[0m\u001b[0m\n\u001b[1;32m----> 8\u001b[1;33m \u001b[0mscore\u001b[0m \u001b[1;33m=\u001b[0m \u001b[0mnp\u001b[0m\u001b[1;33m.\u001b[0m\u001b[0msqrt\u001b[0m\u001b[1;33m(\u001b[0m\u001b[0mmetrics\u001b[0m\u001b[1;33m.\u001b[0m\u001b[0mmean_squared_error\u001b[0m\u001b[1;33m(\u001b[0m\u001b[0mpred\u001b[0m\u001b[1;33m,\u001b[0m\u001b[0my_test\u001b[0m\u001b[1;33m)\u001b[0m\u001b[1;33m)\u001b[0m\u001b[1;33m\u001b[0m\u001b[1;33m\u001b[0m\u001b[0m\n\u001b[0m\u001b[0;32m      9\u001b[0m \u001b[0mprint\u001b[0m\u001b[1;33m(\u001b[0m\u001b[1;34m\"Score (RMSE): {}\"\u001b[0m\u001b[1;33m.\u001b[0m\u001b[0mformat\u001b[0m\u001b[1;33m(\u001b[0m\u001b[0mscore\u001b[0m\u001b[1;33m)\u001b[0m\u001b[1;33m)\u001b[0m\u001b[1;33m\u001b[0m\u001b[1;33m\u001b[0m\u001b[0m\n\u001b[0;32m     10\u001b[0m \u001b[0mmodel_sgd_tanh\u001b[0m\u001b[1;33m.\u001b[0m\u001b[0msummary\u001b[0m\u001b[1;33m(\u001b[0m\u001b[1;33m)\u001b[0m\u001b[1;33m\u001b[0m\u001b[1;33m\u001b[0m\u001b[0m\n",
      "\u001b[1;32mC:\\ProgramData\\Anaconda3\\lib\\site-packages\\sklearn\\metrics\\regression.py\u001b[0m in \u001b[0;36mmean_squared_error\u001b[1;34m(y_true, y_pred, sample_weight, multioutput)\u001b[0m\n\u001b[0;32m    237\u001b[0m     \"\"\"\n\u001b[0;32m    238\u001b[0m     y_type, y_true, y_pred, multioutput = _check_reg_targets(\n\u001b[1;32m--> 239\u001b[1;33m         y_true, y_pred, multioutput)\n\u001b[0m\u001b[0;32m    240\u001b[0m     \u001b[0mcheck_consistent_length\u001b[0m\u001b[1;33m(\u001b[0m\u001b[0my_true\u001b[0m\u001b[1;33m,\u001b[0m \u001b[0my_pred\u001b[0m\u001b[1;33m,\u001b[0m \u001b[0msample_weight\u001b[0m\u001b[1;33m)\u001b[0m\u001b[1;33m\u001b[0m\u001b[1;33m\u001b[0m\u001b[0m\n\u001b[0;32m    241\u001b[0m     output_errors = np.average((y_true - y_pred) ** 2, axis=0,\n",
      "\u001b[1;32mC:\\ProgramData\\Anaconda3\\lib\\site-packages\\sklearn\\metrics\\regression.py\u001b[0m in \u001b[0;36m_check_reg_targets\u001b[1;34m(y_true, y_pred, multioutput)\u001b[0m\n\u001b[0;32m     74\u001b[0m     \"\"\"\n\u001b[0;32m     75\u001b[0m     \u001b[0mcheck_consistent_length\u001b[0m\u001b[1;33m(\u001b[0m\u001b[0my_true\u001b[0m\u001b[1;33m,\u001b[0m \u001b[0my_pred\u001b[0m\u001b[1;33m)\u001b[0m\u001b[1;33m\u001b[0m\u001b[1;33m\u001b[0m\u001b[0m\n\u001b[1;32m---> 76\u001b[1;33m     \u001b[0my_true\u001b[0m \u001b[1;33m=\u001b[0m \u001b[0mcheck_array\u001b[0m\u001b[1;33m(\u001b[0m\u001b[0my_true\u001b[0m\u001b[1;33m,\u001b[0m \u001b[0mensure_2d\u001b[0m\u001b[1;33m=\u001b[0m\u001b[1;32mFalse\u001b[0m\u001b[1;33m)\u001b[0m\u001b[1;33m\u001b[0m\u001b[1;33m\u001b[0m\u001b[0m\n\u001b[0m\u001b[0;32m     77\u001b[0m     \u001b[0my_pred\u001b[0m \u001b[1;33m=\u001b[0m \u001b[0mcheck_array\u001b[0m\u001b[1;33m(\u001b[0m\u001b[0my_pred\u001b[0m\u001b[1;33m,\u001b[0m \u001b[0mensure_2d\u001b[0m\u001b[1;33m=\u001b[0m\u001b[1;32mFalse\u001b[0m\u001b[1;33m)\u001b[0m\u001b[1;33m\u001b[0m\u001b[1;33m\u001b[0m\u001b[0m\n\u001b[0;32m     78\u001b[0m \u001b[1;33m\u001b[0m\u001b[0m\n",
      "\u001b[1;32mC:\\ProgramData\\Anaconda3\\lib\\site-packages\\sklearn\\utils\\validation.py\u001b[0m in \u001b[0;36mcheck_array\u001b[1;34m(array, accept_sparse, accept_large_sparse, dtype, order, copy, force_all_finite, ensure_2d, allow_nd, ensure_min_samples, ensure_min_features, warn_on_dtype, estimator)\u001b[0m\n\u001b[0;32m    571\u001b[0m         \u001b[1;32mif\u001b[0m \u001b[0mforce_all_finite\u001b[0m\u001b[1;33m:\u001b[0m\u001b[1;33m\u001b[0m\u001b[1;33m\u001b[0m\u001b[0m\n\u001b[0;32m    572\u001b[0m             _assert_all_finite(array,\n\u001b[1;32m--> 573\u001b[1;33m                                allow_nan=force_all_finite == 'allow-nan')\n\u001b[0m\u001b[0;32m    574\u001b[0m \u001b[1;33m\u001b[0m\u001b[0m\n\u001b[0;32m    575\u001b[0m     \u001b[0mshape_repr\u001b[0m \u001b[1;33m=\u001b[0m \u001b[0m_shape_repr\u001b[0m\u001b[1;33m(\u001b[0m\u001b[0marray\u001b[0m\u001b[1;33m.\u001b[0m\u001b[0mshape\u001b[0m\u001b[1;33m)\u001b[0m\u001b[1;33m\u001b[0m\u001b[1;33m\u001b[0m\u001b[0m\n",
      "\u001b[1;32mC:\\ProgramData\\Anaconda3\\lib\\site-packages\\sklearn\\utils\\validation.py\u001b[0m in \u001b[0;36m_assert_all_finite\u001b[1;34m(X, allow_nan)\u001b[0m\n\u001b[0;32m     54\u001b[0m                 not allow_nan and not np.isfinite(X).all()):\n\u001b[0;32m     55\u001b[0m             \u001b[0mtype_err\u001b[0m \u001b[1;33m=\u001b[0m \u001b[1;34m'infinity'\u001b[0m \u001b[1;32mif\u001b[0m \u001b[0mallow_nan\u001b[0m \u001b[1;32melse\u001b[0m \u001b[1;34m'NaN, infinity'\u001b[0m\u001b[1;33m\u001b[0m\u001b[1;33m\u001b[0m\u001b[0m\n\u001b[1;32m---> 56\u001b[1;33m             \u001b[1;32mraise\u001b[0m \u001b[0mValueError\u001b[0m\u001b[1;33m(\u001b[0m\u001b[0mmsg_err\u001b[0m\u001b[1;33m.\u001b[0m\u001b[0mformat\u001b[0m\u001b[1;33m(\u001b[0m\u001b[0mtype_err\u001b[0m\u001b[1;33m,\u001b[0m \u001b[0mX\u001b[0m\u001b[1;33m.\u001b[0m\u001b[0mdtype\u001b[0m\u001b[1;33m)\u001b[0m\u001b[1;33m)\u001b[0m\u001b[1;33m\u001b[0m\u001b[1;33m\u001b[0m\u001b[0m\n\u001b[0m\u001b[0;32m     57\u001b[0m \u001b[1;33m\u001b[0m\u001b[0m\n\u001b[0;32m     58\u001b[0m \u001b[1;33m\u001b[0m\u001b[0m\n",
      "\u001b[1;31mValueError\u001b[0m: Input contains NaN, infinity or a value too large for dtype('float32')."
     ]
    }
   ],
   "source": [
    "from sklearn import metrics\n",
    "\n",
    "pred_train = model_sgd_tanh.predict(X_train)\n",
    "score_train = np.sqrt(metrics.mean_squared_error(pred_train,y_train))\n",
    "print(\"Score (RMSE): {}\".format(score_train))\n",
    "\n",
    "pred_test = model_sgd_tanh.predict(X_test)\n",
    "score_test = np.sqrt(metrics.mean_squared_error(pred_test,y_test))\n",
    "print(\"Score (RMSE): {}\".format(score_test))\n",
    "\n",
    "#chart_regression(pred.flatten(),y_lstm_seq_test, sort=True)\n",
    "chart_regression(pred_train.flatten(),y_train, sort=True)\n",
    "chart_regression(pred_test.flatten(),y_test, sort=True)"
   ]
  },
  {
   "cell_type": "code",
   "execution_count": null,
   "metadata": {},
   "outputs": [],
   "source": []
  }
 ],
 "metadata": {
  "kernelspec": {
   "display_name": "Python 3",
   "language": "python",
   "name": "python3"
  },
  "language_info": {
   "codemirror_mode": {
    "name": "ipython",
    "version": 3
   },
   "file_extension": ".py",
   "mimetype": "text/x-python",
   "name": "python",
   "nbconvert_exporter": "python",
   "pygments_lexer": "ipython3",
   "version": "3.7.3"
  }
 },
 "nbformat": 4,
 "nbformat_minor": 2
}
